{
 "cells": [
  {
   "cell_type": "markdown",
   "metadata": {},
   "source": [
    "# Algorithm implemented"
   ]
  },
  {
   "cell_type": "markdown",
   "metadata": {},
   "source": [
    "- [Define and select data to achieve our goal](#select)\n",
    "- [Adjust class distribution](#adjust)\n",
    "- [Undersampling](#undersampling)\n",
    "- [Split data](split)\n",
    "- [Oversampling](#smote)\n",
    "- [Select models](#models)\n",
    "- Hyperparameter tuning \n",
    "- Train data\n",
    "- Perform prediction"
   ]
  },
  {
   "cell_type": "markdown",
   "metadata": {},
   "source": [
    "## Goal: To predict if a patient will be intubated if he/she has COVID and any of the conditions prevously explained"
   ]
  },
  {
   "cell_type": "code",
   "execution_count": 1,
   "metadata": {},
   "outputs": [],
   "source": [
    "# Libraries\n",
    "import numpy as np\n",
    "import pandas as pd\n",
    "import matplotlib.pyplot as plt\n",
    "from imblearn.over_sampling import SMOTE\n",
    "from sklearn.ensemble import BaggingClassifier\n",
    "from sklearn.model_selection import GridSearchCV\n",
    "from sklearn.ensemble import RandomForestClassifier\n",
    "from sklearn.linear_model import LogisticRegression\n",
    "from sklearn.model_selection import train_test_split\n",
    "from sklearn.metrics import roc_auc_score, roc_curve, confusion_matrix, f1_score\n",
    "from sklearn.metrics import accuracy_score, precision_score, recall_score\n",
    "\n",
    "import warnings\n",
    "warnings.filterwarnings(\"ignore\")"
   ]
  },
  {
   "cell_type": "code",
   "execution_count": 2,
   "metadata": {},
   "outputs": [
    {
     "data": {
      "text/html": [
       "<div>\n",
       "<style scoped>\n",
       "    .dataframe tbody tr th:only-of-type {\n",
       "        vertical-align: middle;\n",
       "    }\n",
       "\n",
       "    .dataframe tbody tr th {\n",
       "        vertical-align: top;\n",
       "    }\n",
       "\n",
       "    .dataframe thead th {\n",
       "        text-align: right;\n",
       "    }\n",
       "</style>\n",
       "<table border=\"1\" class=\"dataframe\">\n",
       "  <thead>\n",
       "    <tr style=\"text-align: right;\">\n",
       "      <th></th>\n",
       "      <th>fecha_actualizacion</th>\n",
       "      <th>id_registro</th>\n",
       "      <th>origen</th>\n",
       "      <th>sector</th>\n",
       "      <th>entidad_um</th>\n",
       "      <th>sexo</th>\n",
       "      <th>entidad_nac</th>\n",
       "      <th>entidad_res</th>\n",
       "      <th>municipio_res</th>\n",
       "      <th>tipo_paciente</th>\n",
       "      <th>...</th>\n",
       "      <th>obesidad</th>\n",
       "      <th>renal_cronica</th>\n",
       "      <th>tabaquismo</th>\n",
       "      <th>otro_caso</th>\n",
       "      <th>resultado</th>\n",
       "      <th>migrante</th>\n",
       "      <th>pais_nacionalidad</th>\n",
       "      <th>pais_origen</th>\n",
       "      <th>uci</th>\n",
       "      <th>entidad_federativa</th>\n",
       "    </tr>\n",
       "  </thead>\n",
       "  <tbody>\n",
       "    <tr>\n",
       "      <td>0</td>\n",
       "      <td>2020-07-16</td>\n",
       "      <td>149341</td>\n",
       "      <td>2</td>\n",
       "      <td>4.0</td>\n",
       "      <td>15</td>\n",
       "      <td>women</td>\n",
       "      <td>15.0</td>\n",
       "      <td>15</td>\n",
       "      <td>106.0</td>\n",
       "      <td>1</td>\n",
       "      <td>...</td>\n",
       "      <td>2.0</td>\n",
       "      <td>2.0</td>\n",
       "      <td>2.0</td>\n",
       "      <td>NaN</td>\n",
       "      <td>Positivo</td>\n",
       "      <td>NaN</td>\n",
       "      <td>Mexico</td>\n",
       "      <td>NaN</td>\n",
       "      <td>NaN</td>\n",
       "      <td>México</td>\n",
       "    </tr>\n",
       "    <tr>\n",
       "      <td>1</td>\n",
       "      <td>2020-07-16</td>\n",
       "      <td>14544b</td>\n",
       "      <td>2</td>\n",
       "      <td>4.0</td>\n",
       "      <td>9</td>\n",
       "      <td>women</td>\n",
       "      <td>9.0</td>\n",
       "      <td>15</td>\n",
       "      <td>104.0</td>\n",
       "      <td>1</td>\n",
       "      <td>...</td>\n",
       "      <td>2.0</td>\n",
       "      <td>2.0</td>\n",
       "      <td>2.0</td>\n",
       "      <td>NaN</td>\n",
       "      <td>Positivo</td>\n",
       "      <td>NaN</td>\n",
       "      <td>Mexico</td>\n",
       "      <td>NaN</td>\n",
       "      <td>NaN</td>\n",
       "      <td>México</td>\n",
       "    </tr>\n",
       "    <tr>\n",
       "      <td>2</td>\n",
       "      <td>2020-07-16</td>\n",
       "      <td>12a72b</td>\n",
       "      <td>2</td>\n",
       "      <td>4.0</td>\n",
       "      <td>9</td>\n",
       "      <td>women</td>\n",
       "      <td>9.0</td>\n",
       "      <td>15</td>\n",
       "      <td>121.0</td>\n",
       "      <td>1</td>\n",
       "      <td>...</td>\n",
       "      <td>2.0</td>\n",
       "      <td>2.0</td>\n",
       "      <td>2.0</td>\n",
       "      <td>NaN</td>\n",
       "      <td>Positivo</td>\n",
       "      <td>NaN</td>\n",
       "      <td>Mexico</td>\n",
       "      <td>NaN</td>\n",
       "      <td>NaN</td>\n",
       "      <td>México</td>\n",
       "    </tr>\n",
       "    <tr>\n",
       "      <td>3</td>\n",
       "      <td>2020-07-16</td>\n",
       "      <td>0b1fd9</td>\n",
       "      <td>2</td>\n",
       "      <td>4.0</td>\n",
       "      <td>9</td>\n",
       "      <td>men</td>\n",
       "      <td>15.0</td>\n",
       "      <td>15</td>\n",
       "      <td>81.0</td>\n",
       "      <td>1</td>\n",
       "      <td>...</td>\n",
       "      <td>2.0</td>\n",
       "      <td>2.0</td>\n",
       "      <td>1.0</td>\n",
       "      <td>NaN</td>\n",
       "      <td>Positivo</td>\n",
       "      <td>NaN</td>\n",
       "      <td>Mexico</td>\n",
       "      <td>NaN</td>\n",
       "      <td>NaN</td>\n",
       "      <td>México</td>\n",
       "    </tr>\n",
       "    <tr>\n",
       "      <td>4</td>\n",
       "      <td>2020-07-19</td>\n",
       "      <td>147f1f</td>\n",
       "      <td>2</td>\n",
       "      <td>4.0</td>\n",
       "      <td>15</td>\n",
       "      <td>men</td>\n",
       "      <td>9.0</td>\n",
       "      <td>15</td>\n",
       "      <td>33.0</td>\n",
       "      <td>2</td>\n",
       "      <td>...</td>\n",
       "      <td>2.0</td>\n",
       "      <td>2.0</td>\n",
       "      <td>2.0</td>\n",
       "      <td>NaN</td>\n",
       "      <td>Positivo</td>\n",
       "      <td>NaN</td>\n",
       "      <td>Mexico</td>\n",
       "      <td>NaN</td>\n",
       "      <td>2.0</td>\n",
       "      <td>México</td>\n",
       "    </tr>\n",
       "  </tbody>\n",
       "</table>\n",
       "<p>5 rows × 36 columns</p>\n",
       "</div>"
      ],
      "text/plain": [
       "  fecha_actualizacion id_registro  origen  sector  entidad_um   sexo  \\\n",
       "0          2020-07-16      149341       2     4.0          15  women   \n",
       "1          2020-07-16      14544b       2     4.0           9  women   \n",
       "2          2020-07-16      12a72b       2     4.0           9  women   \n",
       "3          2020-07-16      0b1fd9       2     4.0           9    men   \n",
       "4          2020-07-19      147f1f       2     4.0          15    men   \n",
       "\n",
       "   entidad_nac  entidad_res  municipio_res  tipo_paciente  ... obesidad  \\\n",
       "0         15.0           15          106.0              1  ...      2.0   \n",
       "1          9.0           15          104.0              1  ...      2.0   \n",
       "2          9.0           15          121.0              1  ...      2.0   \n",
       "3         15.0           15           81.0              1  ...      2.0   \n",
       "4          9.0           15           33.0              2  ...      2.0   \n",
       "\n",
       "  renal_cronica tabaquismo  otro_caso  resultado  migrante  pais_nacionalidad  \\\n",
       "0           2.0        2.0        NaN   Positivo       NaN             Mexico   \n",
       "1           2.0        2.0        NaN   Positivo       NaN             Mexico   \n",
       "2           2.0        2.0        NaN   Positivo       NaN             Mexico   \n",
       "3           2.0        1.0        NaN   Positivo       NaN             Mexico   \n",
       "4           2.0        2.0        NaN   Positivo       NaN             Mexico   \n",
       "\n",
       "   pais_origen  uci  entidad_federativa  \n",
       "0          NaN  NaN              México  \n",
       "1          NaN  NaN              México  \n",
       "2          NaN  NaN              México  \n",
       "3          NaN  NaN              México  \n",
       "4          NaN  2.0              México  \n",
       "\n",
       "[5 rows x 36 columns]"
      ]
     },
     "execution_count": 2,
     "metadata": {},
     "output_type": "execute_result"
    }
   ],
   "source": [
    "# read data\n",
    "df = pd.read_csv('data1/positive.csv')\n",
    "df = df.drop(['Unnamed: 0'], axis = 1)\n",
    "df.head()"
   ]
  },
  {
   "cell_type": "code",
   "execution_count": 3,
   "metadata": {},
   "outputs": [
    {
     "data": {
      "text/plain": [
       "(356609, 36)"
      ]
     },
     "execution_count": 3,
     "metadata": {},
     "output_type": "execute_result"
    }
   ],
   "source": [
    "df.shape"
   ]
  },
  {
   "cell_type": "markdown",
   "metadata": {},
   "source": [
    "## Select data  <a name=\"select\"></a>"
   ]
  },
  {
   "cell_type": "code",
   "execution_count": 4,
   "metadata": {},
   "outputs": [],
   "source": [
    "# select cols\n",
    "data = df[['sexo','edad', 'embarazo', 'diabetes', 'epoc', 'neumonia', 'asma', 'inmusupr', 'hipertension', 'cardiovascular',\n",
    "           'obesidad', 'renal_cronica', 'tabaquismo', 'otra_com', 'intubado']]"
   ]
  },
  {
   "cell_type": "code",
   "execution_count": 5,
   "metadata": {},
   "outputs": [],
   "source": [
    "# from float to int\n",
    "selected_cols = ['sexo', 'entidad_res', 'edad']\n",
    "columns = data.columns.tolist()\n",
    "\n",
    "for i in columns:\n",
    "    if i in selected_cols:\n",
    "        pass\n",
    "    \n",
    "    else:\n",
    "        data[i] = data[i].round().astype('Int64')"
   ]
  },
  {
   "cell_type": "code",
   "execution_count": 6,
   "metadata": {},
   "outputs": [
    {
     "data": {
      "text/html": [
       "<div>\n",
       "<style scoped>\n",
       "    .dataframe tbody tr th:only-of-type {\n",
       "        vertical-align: middle;\n",
       "    }\n",
       "\n",
       "    .dataframe tbody tr th {\n",
       "        vertical-align: top;\n",
       "    }\n",
       "\n",
       "    .dataframe thead th {\n",
       "        text-align: right;\n",
       "    }\n",
       "</style>\n",
       "<table border=\"1\" class=\"dataframe\">\n",
       "  <thead>\n",
       "    <tr style=\"text-align: right;\">\n",
       "      <th></th>\n",
       "      <th>sexo</th>\n",
       "      <th>edad</th>\n",
       "      <th>embarazo</th>\n",
       "      <th>diabetes</th>\n",
       "      <th>epoc</th>\n",
       "      <th>neumonia</th>\n",
       "      <th>asma</th>\n",
       "      <th>inmusupr</th>\n",
       "      <th>hipertension</th>\n",
       "      <th>cardiovascular</th>\n",
       "      <th>obesidad</th>\n",
       "      <th>renal_cronica</th>\n",
       "      <th>tabaquismo</th>\n",
       "      <th>otra_com</th>\n",
       "      <th>intubado</th>\n",
       "    </tr>\n",
       "  </thead>\n",
       "  <tbody>\n",
       "    <tr>\n",
       "      <td>0</td>\n",
       "      <td>women</td>\n",
       "      <td>30</td>\n",
       "      <td>2</td>\n",
       "      <td>2</td>\n",
       "      <td>2</td>\n",
       "      <td>2</td>\n",
       "      <td>2</td>\n",
       "      <td>2</td>\n",
       "      <td>2</td>\n",
       "      <td>2</td>\n",
       "      <td>2</td>\n",
       "      <td>2</td>\n",
       "      <td>2</td>\n",
       "      <td>2</td>\n",
       "      <td>NaN</td>\n",
       "    </tr>\n",
       "    <tr>\n",
       "      <td>1</td>\n",
       "      <td>women</td>\n",
       "      <td>29</td>\n",
       "      <td>2</td>\n",
       "      <td>2</td>\n",
       "      <td>2</td>\n",
       "      <td>2</td>\n",
       "      <td>2</td>\n",
       "      <td>2</td>\n",
       "      <td>2</td>\n",
       "      <td>2</td>\n",
       "      <td>2</td>\n",
       "      <td>2</td>\n",
       "      <td>2</td>\n",
       "      <td>2</td>\n",
       "      <td>NaN</td>\n",
       "    </tr>\n",
       "    <tr>\n",
       "      <td>2</td>\n",
       "      <td>women</td>\n",
       "      <td>36</td>\n",
       "      <td>2</td>\n",
       "      <td>2</td>\n",
       "      <td>2</td>\n",
       "      <td>2</td>\n",
       "      <td>2</td>\n",
       "      <td>2</td>\n",
       "      <td>2</td>\n",
       "      <td>2</td>\n",
       "      <td>2</td>\n",
       "      <td>2</td>\n",
       "      <td>2</td>\n",
       "      <td>2</td>\n",
       "      <td>NaN</td>\n",
       "    </tr>\n",
       "    <tr>\n",
       "      <td>3</td>\n",
       "      <td>men</td>\n",
       "      <td>43</td>\n",
       "      <td>NaN</td>\n",
       "      <td>2</td>\n",
       "      <td>2</td>\n",
       "      <td>2</td>\n",
       "      <td>2</td>\n",
       "      <td>2</td>\n",
       "      <td>2</td>\n",
       "      <td>2</td>\n",
       "      <td>2</td>\n",
       "      <td>2</td>\n",
       "      <td>1</td>\n",
       "      <td>1</td>\n",
       "      <td>NaN</td>\n",
       "    </tr>\n",
       "    <tr>\n",
       "      <td>4</td>\n",
       "      <td>men</td>\n",
       "      <td>68</td>\n",
       "      <td>NaN</td>\n",
       "      <td>1</td>\n",
       "      <td>2</td>\n",
       "      <td>1</td>\n",
       "      <td>2</td>\n",
       "      <td>2</td>\n",
       "      <td>2</td>\n",
       "      <td>2</td>\n",
       "      <td>2</td>\n",
       "      <td>2</td>\n",
       "      <td>2</td>\n",
       "      <td>2</td>\n",
       "      <td>2</td>\n",
       "    </tr>\n",
       "  </tbody>\n",
       "</table>\n",
       "</div>"
      ],
      "text/plain": [
       "    sexo  edad  embarazo  diabetes  epoc  neumonia  asma  inmusupr  \\\n",
       "0  women    30         2         2     2         2     2         2   \n",
       "1  women    29         2         2     2         2     2         2   \n",
       "2  women    36         2         2     2         2     2         2   \n",
       "3    men    43       NaN         2     2         2     2         2   \n",
       "4    men    68       NaN         1     2         1     2         2   \n",
       "\n",
       "   hipertension  cardiovascular  obesidad  renal_cronica  tabaquismo  \\\n",
       "0             2               2         2              2           2   \n",
       "1             2               2         2              2           2   \n",
       "2             2               2         2              2           2   \n",
       "3             2               2         2              2           1   \n",
       "4             2               2         2              2           2   \n",
       "\n",
       "   otra_com  intubado  \n",
       "0         2       NaN  \n",
       "1         2       NaN  \n",
       "2         2       NaN  \n",
       "3         1       NaN  \n",
       "4         2         2  "
      ]
     },
     "execution_count": 6,
     "metadata": {},
     "output_type": "execute_result"
    }
   ],
   "source": [
    "data.head()"
   ]
  },
  {
   "cell_type": "code",
   "execution_count": 7,
   "metadata": {},
   "outputs": [],
   "source": [
    "# drop NaN values\n",
    "data = data.dropna().reset_index(drop = True)"
   ]
  },
  {
   "cell_type": "code",
   "execution_count": 8,
   "metadata": {},
   "outputs": [],
   "source": [
    "cols = ['sexo', 'edad']\n",
    "\n",
    "for i in data.columns:\n",
    "    if i in cols:\n",
    "        pass\n",
    "    \n",
    "    else:\n",
    "        data[i] = data[i].replace(2, 0)\n",
    "        \n",
    "data['sexo'] = data['sexo'].replace('men', 0)\n",
    "data['sexo'] = data['sexo'].replace('women', 1)"
   ]
  },
  {
   "cell_type": "code",
   "execution_count": 9,
   "metadata": {},
   "outputs": [
    {
     "data": {
      "text/html": [
       "<div>\n",
       "<style scoped>\n",
       "    .dataframe tbody tr th:only-of-type {\n",
       "        vertical-align: middle;\n",
       "    }\n",
       "\n",
       "    .dataframe tbody tr th {\n",
       "        vertical-align: top;\n",
       "    }\n",
       "\n",
       "    .dataframe thead th {\n",
       "        text-align: right;\n",
       "    }\n",
       "</style>\n",
       "<table border=\"1\" class=\"dataframe\">\n",
       "  <thead>\n",
       "    <tr style=\"text-align: right;\">\n",
       "      <th></th>\n",
       "      <th>sexo</th>\n",
       "      <th>edad</th>\n",
       "      <th>embarazo</th>\n",
       "      <th>diabetes</th>\n",
       "      <th>epoc</th>\n",
       "      <th>neumonia</th>\n",
       "      <th>asma</th>\n",
       "      <th>inmusupr</th>\n",
       "      <th>hipertension</th>\n",
       "      <th>cardiovascular</th>\n",
       "      <th>obesidad</th>\n",
       "      <th>renal_cronica</th>\n",
       "      <th>tabaquismo</th>\n",
       "      <th>otra_com</th>\n",
       "      <th>intubado</th>\n",
       "    </tr>\n",
       "  </thead>\n",
       "  <tbody>\n",
       "    <tr>\n",
       "      <td>0</td>\n",
       "      <td>1</td>\n",
       "      <td>57</td>\n",
       "      <td>0</td>\n",
       "      <td>0</td>\n",
       "      <td>0</td>\n",
       "      <td>0</td>\n",
       "      <td>0</td>\n",
       "      <td>0</td>\n",
       "      <td>0</td>\n",
       "      <td>0</td>\n",
       "      <td>0</td>\n",
       "      <td>0</td>\n",
       "      <td>0</td>\n",
       "      <td>0</td>\n",
       "      <td>1</td>\n",
       "    </tr>\n",
       "    <tr>\n",
       "      <td>1</td>\n",
       "      <td>1</td>\n",
       "      <td>69</td>\n",
       "      <td>0</td>\n",
       "      <td>0</td>\n",
       "      <td>0</td>\n",
       "      <td>1</td>\n",
       "      <td>0</td>\n",
       "      <td>0</td>\n",
       "      <td>0</td>\n",
       "      <td>1</td>\n",
       "      <td>1</td>\n",
       "      <td>0</td>\n",
       "      <td>0</td>\n",
       "      <td>0</td>\n",
       "      <td>1</td>\n",
       "    </tr>\n",
       "    <tr>\n",
       "      <td>2</td>\n",
       "      <td>1</td>\n",
       "      <td>42</td>\n",
       "      <td>0</td>\n",
       "      <td>0</td>\n",
       "      <td>0</td>\n",
       "      <td>1</td>\n",
       "      <td>0</td>\n",
       "      <td>0</td>\n",
       "      <td>0</td>\n",
       "      <td>0</td>\n",
       "      <td>0</td>\n",
       "      <td>0</td>\n",
       "      <td>0</td>\n",
       "      <td>0</td>\n",
       "      <td>0</td>\n",
       "    </tr>\n",
       "  </tbody>\n",
       "</table>\n",
       "</div>"
      ],
      "text/plain": [
       "   sexo  edad  embarazo  diabetes  epoc  neumonia  asma  inmusupr  \\\n",
       "0     1    57         0         0     0         0     0         0   \n",
       "1     1    69         0         0     0         1     0         0   \n",
       "2     1    42         0         0     0         1     0         0   \n",
       "\n",
       "   hipertension  cardiovascular  obesidad  renal_cronica  tabaquismo  \\\n",
       "0             0               0         0              0           0   \n",
       "1             0               1         1              0           0   \n",
       "2             0               0         0              0           0   \n",
       "\n",
       "   otra_com  intubado  \n",
       "0         0         1  \n",
       "1         0         1  \n",
       "2         0         0  "
      ]
     },
     "execution_count": 9,
     "metadata": {},
     "output_type": "execute_result"
    }
   ],
   "source": [
    "data.head(3)"
   ]
  },
  {
   "cell_type": "markdown",
   "metadata": {},
   "source": [
    "## Adjust class distribution  <a name=\"adjust\"></a>"
   ]
  },
  {
   "cell_type": "markdown",
   "metadata": {},
   "source": [
    "The target variable is the *intubado* column. Nevertheless, as you may see in the cell above, there are more observations of the class 0 than the class 1. For 0s we have almost 35,000 values while for 1s we have a little bit more than 3,100 observations."
   ]
  },
  {
   "cell_type": "code",
   "execution_count": 10,
   "metadata": {},
   "outputs": [
    {
     "data": {
      "text/plain": [
       "0    34969\n",
       "1     3133\n",
       "Name: intubado, dtype: int64"
      ]
     },
     "execution_count": 10,
     "metadata": {},
     "output_type": "execute_result"
    }
   ],
   "source": [
    "data.intubado.value_counts()"
   ]
  },
  {
   "cell_type": "markdown",
   "metadata": {},
   "source": [
    "In other words, we have an ***unbalanced*** sample. How do we deal with an unbalanced sample? There are different techniques to adjust a class distribution, however, we will use the following two: \n",
    "- Undersampling: Remove samples from the majority class \n",
    "- Oversampling: Replicate some data  from the minority class to have the \n",
    "\n",
    "In this case wi will use both oversampling and undersampling, therefore, we will randomly remove 50% of the points from the majority class (0) and increase the minority class. "
   ]
  },
  {
   "cell_type": "markdown",
   "metadata": {},
   "source": [
    "### Undersampling  <a name=\"undersampling\"></a>"
   ]
  },
  {
   "cell_type": "code",
   "execution_count": 11,
   "metadata": {},
   "outputs": [
    {
     "data": {
      "text/plain": [
       "3133"
      ]
     },
     "execution_count": 11,
     "metadata": {},
     "output_type": "execute_result"
    }
   ],
   "source": [
    "len(data[data['intubado'] == 1])"
   ]
  },
  {
   "cell_type": "code",
   "execution_count": 12,
   "metadata": {},
   "outputs": [
    {
     "data": {
      "text/plain": [
       "3133"
      ]
     },
     "execution_count": 12,
     "metadata": {},
     "output_type": "execute_result"
    }
   ],
   "source": [
    "# total number of samples in the minority class\n",
    "samples_minoriry_class = len(data[data['intubado'] == 1])\n",
    "samples_minoriry_class"
   ]
  },
  {
   "cell_type": "code",
   "execution_count": 13,
   "metadata": {},
   "outputs": [],
   "source": [
    "majority_class_indices = data[data['intubado'] == 0].index\n",
    "minority_class_indices = data[data['intubado'] == 1].index"
   ]
  },
  {
   "cell_type": "code",
   "execution_count": 15,
   "metadata": {},
   "outputs": [
    {
     "data": {
      "text/plain": [
       "17484"
      ]
     },
     "execution_count": 15,
     "metadata": {},
     "output_type": "execute_result"
    }
   ],
   "source": [
    "size = int(len(majority_class_indices)/2)\n",
    "size"
   ]
  },
  {
   "cell_type": "code",
   "execution_count": 16,
   "metadata": {},
   "outputs": [
    {
     "data": {
      "text/plain": [
       "17484"
      ]
     },
     "execution_count": 16,
     "metadata": {},
     "output_type": "execute_result"
    }
   ],
   "source": [
    "random_majority_indices = np.random.choice(majority_class_indices, size, replace = False)\n",
    "len(random_majority_indices)"
   ]
  },
  {
   "cell_type": "code",
   "execution_count": 17,
   "metadata": {},
   "outputs": [],
   "source": [
    "under_sample_indices = np.concatenate([minority_class_indices, random_majority_indices])"
   ]
  },
  {
   "cell_type": "code",
   "execution_count": 18,
   "metadata": {},
   "outputs": [],
   "source": [
    "# new df\n",
    "under_sample = data.loc[under_sample_indices]"
   ]
  },
  {
   "cell_type": "code",
   "execution_count": 19,
   "metadata": {},
   "outputs": [
    {
     "data": {
      "text/plain": [
       "0    17484\n",
       "1     3133\n",
       "Name: intubado, dtype: int64"
      ]
     },
     "execution_count": 19,
     "metadata": {},
     "output_type": "execute_result"
    }
   ],
   "source": [
    "# see new dist of classes\n",
    "under_sample.intubado.value_counts()"
   ]
  },
  {
   "cell_type": "markdown",
   "metadata": {},
   "source": [
    "## Split data  <a name=\"split\"></a>"
   ]
  },
  {
   "cell_type": "code",
   "execution_count": 23,
   "metadata": {},
   "outputs": [],
   "source": [
    "# define vars\n",
    "X = under_sample.drop(['intubado'], axis = 1)\n",
    "y = under_sample[['intubado']]"
   ]
  },
  {
   "cell_type": "code",
   "execution_count": 24,
   "metadata": {},
   "outputs": [],
   "source": [
    "# split data\n",
    "X_train, X_test, y_train, y_test = train_test_split(X, y, test_size = 0.2, stratify = under_sample['intubado'])"
   ]
  },
  {
   "cell_type": "code",
   "execution_count": 25,
   "metadata": {},
   "outputs": [],
   "source": [
    "y_train = y_train.astype('int')\n",
    "X_train = X_train.astype('int')\n",
    "\n",
    "X_test = X_test.astype('int')\n",
    "y_test = y_test.astype('int')"
   ]
  },
  {
   "cell_type": "markdown",
   "metadata": {},
   "source": [
    "## SMOTE  <a name=\"smote\"></a>"
   ]
  },
  {
   "cell_type": "markdown",
   "metadata": {},
   "source": [
    "By oversampling only on the training data, none of the information in the validation data is being used to create synthetic observations. Hence, these results should be generalizable."
   ]
  },
  {
   "cell_type": "code",
   "execution_count": 26,
   "metadata": {},
   "outputs": [],
   "source": [
    "sm = SMOTE(random_state = 12)\n",
    "x_train_res, y_train_res = sm.fit_sample(X_train, y_train)"
   ]
  },
  {
   "cell_type": "code",
   "execution_count": 27,
   "metadata": {},
   "outputs": [
    {
     "data": {
      "text/plain": [
       "{0: 13987, 1: 13987}"
      ]
     },
     "execution_count": 27,
     "metadata": {},
     "output_type": "execute_result"
    }
   ],
   "source": [
    "unique, count = np.unique(y_train_res, return_counts = True)\n",
    "y_train_smote_value_count = { k:v for (k,v) in zip(unique, count)}\n",
    "y_train_smote_value_count"
   ]
  },
  {
   "cell_type": "markdown",
   "metadata": {},
   "source": [
    "## Models  <a name=\"models\"></a>"
   ]
  },
  {
   "cell_type": "code",
   "execution_count": 22,
   "metadata": {},
   "outputs": [],
   "source": [
    "model = LogisticRegression()\n",
    "rfc = RandomForestClassifier()\n",
    "bag = BaggingClassifier()"
   ]
  },
  {
   "cell_type": "markdown",
   "metadata": {},
   "source": [
    "The following functions will tell how good a model is performing. Let's explain the concepts first.\n",
    "\n",
    "- With the **precision** metric we can measure the quality of the machine learning model in classification tasks.\n",
    "- The **recall** metric will inform us about percentage of values that the machine learning model is capable of identifying.\n",
    "- The **F1** value is used to combine the precision and recall measurements into a single value. This is practical because it makes it easier to compare the combined precision and recall performance between various solutions.\n",
    "- **Accuracy** measures the percentage of cases that the model has hit. This is one of the most used and favorite metrics. The problem with accuracy is that it can lead us to deception, that is, it can make a bad model (like the those in the example) look like it is much better than it is.\n",
    "\n",
    "- The **AUC - ROC** curve is a performance measurement for classification problems. ROC is a probability curve and AUC represents degree or measure of separability. It tells how much model is capable of distinguishing between classes. Higher the AUC, better the model is at predicting values for each class. By analogy, higher the AUC, better the model is at distinguishing between intubated and no intubated patients."
   ]
  },
  {
   "cell_type": "code",
   "execution_count": 20,
   "metadata": {},
   "outputs": [],
   "source": [
    "def report(y_actual, y_predicted):\n",
    "    print(\"Accuracy = \", accuracy_score(y_actual, y_predicted))\n",
    "    print(\"Precision = \", precision_score(y_actual, y_predicted))\n",
    "    print(\"Recall = \", recall_score(y_actual, y_predicted))\n",
    "    print(\"F1 Score = \", f1_score(y_actual, y_predicted))\n",
    "    pass"
   ]
  },
  {
   "cell_type": "code",
   "execution_count": 21,
   "metadata": {},
   "outputs": [],
   "source": [
    "def auc_roc_curve(clf, X_test):\n",
    "    y_pred_proba = clf.predict_proba(X_test)[:, 1]\n",
    "    fpr, tpr, thresholds = roc_curve(y_test,  y_pred_proba)\n",
    "    auc = roc_auc_score(y_test, y_pred_proba)\n",
    "    plt.plot(fpr, tpr, label = \"AUC ROC Curve with Area Under the curve = \" +str(auc))\n",
    "    plt.legend(loc = 4)\n",
    "    plt.show()\n",
    "    pass"
   ]
  },
  {
   "cell_type": "markdown",
   "metadata": {},
   "source": [
    "## Random Forest"
   ]
  },
  {
   "cell_type": "code",
   "execution_count": 28,
   "metadata": {},
   "outputs": [
    {
     "data": {
      "text/plain": [
       "{'bootstrap': True,\n",
       " 'max_features': 'log2',\n",
       " 'min_samples_split': 4,\n",
       " 'n_estimators': 1000}"
      ]
     },
     "execution_count": 28,
     "metadata": {},
     "output_type": "execute_result"
    }
   ],
   "source": [
    "param_grid = { \n",
    "            \"n_estimators\":[100, 1000],\n",
    "            #\"criterion\": [\"mse\", \"mae\"],\n",
    "            # \"max_depth\": [2, 4, 5],\n",
    "            \"max_features\":[\"auto\", \"sqrt\", \"log2\"],\n",
    "            \"min_samples_split\":[2, 4, 8],\n",
    "            \"bootstrap\":[True, False],\n",
    "            }\n",
    "\n",
    "grid = GridSearchCV(rfc, param_grid, cv = 5)\n",
    "\n",
    "grid.fit(x_train_res, y_train_res)\n",
    "grid.best_params_"
   ]
  },
  {
   "cell_type": "code",
   "execution_count": 29,
   "metadata": {},
   "outputs": [
    {
     "data": {
      "text/plain": [
       "RandomForestClassifier(min_samples_split=8, n_estimators=1000)"
      ]
     },
     "execution_count": 29,
     "metadata": {},
     "output_type": "execute_result"
    }
   ],
   "source": [
    "rfc = RandomForestClassifier(n_estimators = 1000, bootstrap = True, max_features = 'auto', min_samples_split = 8)\n",
    "\n",
    "# train model\n",
    "rfc.fit(x_train_res, y_train_res)"
   ]
  },
  {
   "cell_type": "code",
   "execution_count": 30,
   "metadata": {},
   "outputs": [
    {
     "data": {
      "text/plain": [
       "0.6083899127061105"
      ]
     },
     "execution_count": 30,
     "metadata": {},
     "output_type": "execute_result"
    }
   ],
   "source": [
    "rfc.score(X_test, y_test)"
   ]
  },
  {
   "cell_type": "code",
   "execution_count": 31,
   "metadata": {},
   "outputs": [],
   "source": [
    "y_pred_rfc = rfc.predict(X_test)"
   ]
  },
  {
   "cell_type": "markdown",
   "metadata": {},
   "source": [
    "### Model's performance"
   ]
  },
  {
   "cell_type": "code",
   "execution_count": 32,
   "metadata": {},
   "outputs": [
    {
     "name": "stdout",
     "output_type": "stream",
     "text": [
      "Accuracy =  0.6083899127061105\n",
      "Precision =  0.2076923076923077\n",
      "Recall =  0.5598086124401914\n",
      "F1 Score =  0.302977988778593\n"
     ]
    }
   ],
   "source": [
    "# call func\n",
    "report(y_test, y_pred_rfc)"
   ]
  },
  {
   "cell_type": "code",
   "execution_count": 33,
   "metadata": {},
   "outputs": [
    {
     "data": {
      "text/plain": [
       "array([[2158, 1339],\n",
       "       [ 276,  351]], dtype=int64)"
      ]
     },
     "execution_count": 33,
     "metadata": {},
     "output_type": "execute_result"
    }
   ],
   "source": [
    "confusion_matrix(y_test, y_pred_rfc) "
   ]
  },
  {
   "cell_type": "code",
   "execution_count": 34,
   "metadata": {},
   "outputs": [
    {
     "data": {
      "image/png": "[encoded data removed]",
      "text/plain": [
       "<Figure size 432x288 with 1 Axes>"
      ]
     },
     "metadata": {
      "needs_background": "light"
     },
     "output_type": "display_data"
    }
   ],
   "source": [
    "auc_roc_curve(rfc, X_test)"
   ]
  },
  {
   "cell_type": "code",
   "execution_count": null,
   "metadata": {},
   "outputs": [],
   "source": []
  },
  {
   "cell_type": "markdown",
   "metadata": {},
   "source": [
    "## Logistic Regression"
   ]
  },
  {
   "cell_type": "code",
   "execution_count": 35,
   "metadata": {},
   "outputs": [
    {
     "data": {
      "text/plain": [
       "LogisticRegression()"
      ]
     },
     "execution_count": 35,
     "metadata": {},
     "output_type": "execute_result"
    }
   ],
   "source": [
    "# train\n",
    "model.fit(x_train_res, y_train_res)"
   ]
  },
  {
   "cell_type": "code",
   "execution_count": 36,
   "metadata": {},
   "outputs": [
    {
     "data": {
      "text/plain": [
       "0.5594083414161009"
      ]
     },
     "execution_count": 36,
     "metadata": {},
     "output_type": "execute_result"
    }
   ],
   "source": [
    "# r^2 score\n",
    "model.score(X_test, y_test)"
   ]
  },
  {
   "cell_type": "code",
   "execution_count": 37,
   "metadata": {},
   "outputs": [],
   "source": [
    "# pred\n",
    "y_pred = model.predict(X_test)"
   ]
  },
  {
   "cell_type": "markdown",
   "metadata": {},
   "source": [
    "### Model's performance"
   ]
  },
  {
   "cell_type": "code",
   "execution_count": 38,
   "metadata": {},
   "outputs": [
    {
     "name": "stdout",
     "output_type": "stream",
     "text": [
      "Accuracy =  0.5594083414161009\n",
      "Precision =  0.2122823984526112\n",
      "Recall =  0.7001594896331739\n",
      "F1 Score =  0.32578849721706865\n"
     ]
    }
   ],
   "source": [
    "# call func\n",
    "report(y_test, y_pred)"
   ]
  },
  {
   "cell_type": "code",
   "execution_count": 39,
   "metadata": {},
   "outputs": [
    {
     "data": {
      "text/plain": [
       "array([[1868, 1629],\n",
       "       [ 188,  439]], dtype=int64)"
      ]
     },
     "execution_count": 39,
     "metadata": {},
     "output_type": "execute_result"
    }
   ],
   "source": [
    "confusion_matrix(y_test, y_pred) "
   ]
  },
  {
   "cell_type": "code",
   "execution_count": 40,
   "metadata": {},
   "outputs": [
    {
     "data": {
      "image/png": "[encoded data removed]",
      "text/plain": [
       "<Figure size 432x288 with 1 Axes>"
      ]
     },
     "metadata": {
      "needs_background": "light"
     },
     "output_type": "display_data"
    }
   ],
   "source": [
    "auc_roc_curve(model, X_test)"
   ]
  },
  {
   "cell_type": "code",
   "execution_count": null,
   "metadata": {},
   "outputs": [],
   "source": []
  },
  {
   "cell_type": "markdown",
   "metadata": {},
   "source": [
    "## Bagging Classifier"
   ]
  },
  {
   "cell_type": "code",
   "execution_count": 42,
   "metadata": {},
   "outputs": [
    {
     "data": {
      "text/plain": [
       "{'max_samples': 0.5, 'n_estimators': 100, 'warm_start': True}"
      ]
     },
     "execution_count": 42,
     "metadata": {},
     "output_type": "execute_result"
    }
   ],
   "source": [
    "params_bag = {\n",
    "        'n_estimators': [100, 1000],\n",
    "        'max_samples' : [0.07, 0.5, 1],\n",
    "        'warm_start': [True, False],\n",
    "        }\n",
    "\n",
    "gridbag = GridSearchCV(bag, params_bag, n_jobs = -1, cv = 5)\n",
    "\n",
    "gridbag.fit(x_train_res, y_train_res) \n",
    "gridbag.best_params_"
   ]
  },
  {
   "cell_type": "code",
   "execution_count": 43,
   "metadata": {},
   "outputs": [],
   "source": [
    "bag = BaggingClassifier(n_estimators = 100, max_samples = 0.5, warm_start = True)"
   ]
  },
  {
   "cell_type": "code",
   "execution_count": 44,
   "metadata": {},
   "outputs": [
    {
     "data": {
      "text/plain": [
       "0.6057225994180407"
      ]
     },
     "execution_count": 44,
     "metadata": {},
     "output_type": "execute_result"
    }
   ],
   "source": [
    "bag.fit(x_train_res, y_train_res)\n",
    "\n",
    "bag.score(X_test, y_test)"
   ]
  },
  {
   "cell_type": "code",
   "execution_count": 45,
   "metadata": {},
   "outputs": [],
   "source": [
    "y_pred_bag = bag.predict(X_test)"
   ]
  },
  {
   "cell_type": "markdown",
   "metadata": {},
   "source": [
    "### Model's performance"
   ]
  },
  {
   "cell_type": "code",
   "execution_count": 46,
   "metadata": {},
   "outputs": [
    {
     "name": "stdout",
     "output_type": "stream",
     "text": [
      "Accuracy =  0.6057225994180407\n",
      "Precision =  0.20738137082601055\n",
      "Recall =  0.5645933014354066\n",
      "F1 Score =  0.3033419023136247\n"
     ]
    }
   ],
   "source": [
    "report(y_test, y_pred_bag)"
   ]
  },
  {
   "cell_type": "code",
   "execution_count": 47,
   "metadata": {},
   "outputs": [
    {
     "data": {
      "image/png": "[encoded data removed]",
      "text/plain": [
       "<Figure size 432x288 with 1 Axes>"
      ]
     },
     "metadata": {
      "needs_background": "light"
     },
     "output_type": "display_data"
    }
   ],
   "source": [
    "auc_roc_curve(bag, X_test)"
   ]
  },
  {
   "cell_type": "markdown",
   "metadata": {},
   "source": [
    "- 50-50 oversampling-undersampling\n",
    "- redes neuronales\n",
    "- SVM\n",
    "- random forest\n",
    "- xgboost\n",
    "- bagging boost"
   ]
  }
 ],
 "metadata": {
  "kernelspec": {
   "display_name": "Python 3",
   "language": "python",
   "name": "python3"
  },
  "language_info": {
   "codemirror_mode": {
    "name": "ipython",
    "version": 3
   },
   "file_extension": ".py",
   "mimetype": "text/x-python",
   "name": "python",
   "nbconvert_exporter": "python",
   "pygments_lexer": "ipython3",
   "version": "3.7.4"
  }
 },
 "nbformat": 4,
 "nbformat_minor": 2
}
